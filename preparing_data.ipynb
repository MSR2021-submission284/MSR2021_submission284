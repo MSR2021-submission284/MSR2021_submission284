{
 "cells": [
  {
   "cell_type": "markdown",
   "metadata": {},
   "source": [
    "# Importing required packages:"
   ]
  },
  {
   "cell_type": "code",
   "execution_count": null,
   "metadata": {},
   "outputs": [],
   "source": [
    "import nltk\n",
    "import numpy as np\n",
    "import scipy\n",
    "import javalang\n",
    "import re\n",
    "import sys\n",
    "import pyparsing\n",
    "import json\n",
    "import random\n",
    "import pandas as pd\n",
    "import matplotlib.pyplot as plt\n",
    "import pickle\n",
    "from pandas import DataFrame"
   ]
  },
  {
   "cell_type": "code",
   "execution_count": null,
   "metadata": {},
   "outputs": [],
   "source": [
    "import os\n",
    "from os import listdir\n",
    "from os.path import isfile, join, splitext,split\n",
    "import csv"
   ]
  },
  {
   "cell_type": "markdown",
   "metadata": {},
   "source": [
    "# Preparing the data:"
   ]
  },
  {
   "cell_type": "code",
   "execution_count": null,
   "metadata": {},
   "outputs": [],
   "source": [
    "def compute_data(d_path,d_name):\n",
    "    d_1_total = []\n",
    "    d_2_total = []\n",
    "    num = 0\n",
    "    types_num = 0\n",
    "    path_2 = join(os.path.split(d_path)[0],'src')\n",
    "    print(path_2)\n",
    "    with open(d_path) as f:\n",
    "        r = csv.reader(f)\n",
    "        list_copy = list(r)\n",
    "        headers_list = list_copy[0]\n",
    "        print(len(headers_list))\n",
    "        print(headers_list)\n",
    "        list_1 = list_copy[1:]\n",
    "        print(len(list_1))\n",
    "        name_1 = ''\n",
    "        for i in range(len(list_1)):\n",
    "            print('\\n',i)\n",
    "            if (len(list_1[i])>71):\n",
    "                name_2 = list_1[i][71]\n",
    "                \n",
    "                if (name_2 != name_1):\n",
    "                    print('\\nname_1:',name_1)\n",
    "                    if (name_1 != ''):\n",
    "                        file_name_1 = 'd_1_' + name_1 + '.txt'\n",
    "                        file_name_2 = 'd_2_' + name_1 + '.txt'\n",
    "                        save_path_1 = join(\".\\data_2\\d\",file_name_1)\n",
    "                        save_path_2 = join(\".\\data_2\\d\",file_name_2)\n",
    "                        \n",
    "                        print(name_1,len(d_1),len(d_2))\n",
    "                        with open(save_path_1,\"wb\") as fp:\n",
    "                            pickle.dump(d_1, fp)\n",
    "                        with open(save_path_2,\"wb\") as fp:\n",
    "                            pickle.dump(d_2, fp)\n",
    "                        \n",
    "                    d_1 = []\n",
    "                    d_2 = []\n",
    "                    \n",
    "                    types_num += 1\n",
    "                    name_1 = name_2\n",
    "                \n",
    "                version = list_1[i][72][0:3:1]\n",
    "                version = str(float(version))\n",
    "                full_name = name_2 + '-' + version\n",
    "                path_3 = join(path_2,full_name)\n",
    "\n",
    "                s_path = path_3\n",
    "                a = list_1[i][6]\n",
    "                s_path = join(s_path,a)\n",
    "\n",
    "                try:\n",
    "                    with open(s_path,encoding=\"ISO-8859-1\") as f_2:\n",
    "                        file_text = f_2.read()\n",
    "                    try:\n",
    "                        tree = javalang.parse.parse(file_text)\n",
    "                        b_num = int(list_1[i][94])\n",
    "                        if (b_num > 0):\n",
    "                            b = True\n",
    "                        else:\n",
    "                            b = False\n",
    "                        row = {}\n",
    "                        row['codes'] = file_text\n",
    "                        list_2 = []\n",
    "                        for index in range(74,94):\n",
    "                            val = float(list_1[i][index])\n",
    "                            list_2.append(val)\n",
    "                        row['ck_metrics'] = list_2\n",
    "                        row['is_buggy'] = b\n",
    "                        if (b_num > 0):\n",
    "                            d_1.append(row)\n",
    "                            d_1_total.append(row)\n",
    "                        else:\n",
    "                            d_2.append(row)\n",
    "                            d_2_total.append(row)\n",
    "                    except:\n",
    "                        print('e_2')\n",
    "                        num += 1\n",
    "\n",
    "                except:\n",
    "                    print('e_1')\n",
    "                    num += 1\n",
    "        \n",
    "        print(name_1,len(d_1),len(d_2))\n",
    "        file_name_1 = 'd_1_' + name_1 + '.txt'\n",
    "        file_name_2 = 'd_2_' + name_1 + '.txt'\n",
    "        save_path_1 = join(\".\\data_2\\d\",file_name_1)\n",
    "        save_path_2 = join(\".\\data_2\\d\",file_name_2)\n",
    "        with open(save_path_1,\"wb\") as fp:\n",
    "            pickle.dump(d_1, fp)\n",
    "        with open(save_path_2,\"wb\") as fp:\n",
    "            pickle.dump(d_2, fp)\n",
    "\n",
    "    print(types_num) \n",
    "    print('\\nNumber of dropped files:',num)\n",
    "    \n",
    "    save_path_1 = \".\\data_2\\d\\d_1_total.txt\"\n",
    "    save_path_2 = \".\\data_2\\d\\d_2_total.txt\"\n",
    "    print('Number of files:',len(d_1_total),len(d_2_total))\n",
    "    with open(save_path_1,\"wb\") as fp:\n",
    "        pickle.dump(d_1_total, fp)\n",
    "    with open(save_path_2,\"wb\") as fp:\n",
    "        pickle.dump(d_2_total, fp)"
   ]
  },
  {
   "cell_type": "code",
   "execution_count": null,
   "metadata": {},
   "outputs": [],
   "source": [
    "d_path_1 = r'.\\data_2\\data_3\\PROMISE\\PROMISE-unified-class.csv'\n",
    "compute_data(d_path_1,0)"
   ]
  },
  {
   "cell_type": "markdown",
   "metadata": {},
   "source": [
    "# Counting number of files in a project:"
   ]
  },
  {
   "cell_type": "code",
   "execution_count": null,
   "metadata": {},
   "outputs": [],
   "source": [
    "with open(\"./data_2/d/d_1_jEdit.txt\",\"rb\") as fp:\n",
    "    d_1 = pickle.load(fp)\n",
    "with open(\"./data_2/d/d_2_jEdit.txt\",\"rb\") as fp:\n",
    "    d_2 = pickle.load(fp)\n",
    "\n",
    "a1 = len(d_1)\n",
    "a2 = len(d_2)\n",
    "\n",
    "print('buggy:',a1)\n",
    "print('non-buggy:',a2)\n",
    "print('bug rate:',a1/(a1 + a2))"
   ]
  }
 ],
 "metadata": {
  "kernelspec": {
   "display_name": "Python 3",
   "language": "python",
   "name": "python3"
  },
  "language_info": {
   "codemirror_mode": {
    "name": "ipython",
    "version": 3
   },
   "file_extension": ".py",
   "mimetype": "text/x-python",
   "name": "python",
   "nbconvert_exporter": "python",
   "pygments_lexer": "ipython3",
   "version": "3.7.6"
  }
 },
 "nbformat": 4,
 "nbformat_minor": 4
}
